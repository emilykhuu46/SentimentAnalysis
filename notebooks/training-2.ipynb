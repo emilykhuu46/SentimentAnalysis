{
 "cells": [
  {
   "cell_type": "markdown",
   "id": "2fa8b35e",
   "metadata": {},
   "source": [
    "This is attempt 2 at using the keras bert model to train the dataset and predict sentiment labels fro phrases in the test dataset. This time I want to increase the accuracy."
   ]
  },
  {
   "cell_type": "markdown",
   "id": "02863e15",
   "metadata": {},
   "source": [
    "The training and testing data was cut into only 20 random rows because the kernal would have died if all the rows were processed. "
   ]
  },
  {
   "cell_type": "code",
   "execution_count": 2,
   "id": "6ae26f5d",
   "metadata": {},
   "outputs": [
    {
     "name": "stderr",
     "output_type": "stream",
     "text": [
      "2023-12-11 16:47:37.451708: I external/local_tsl/tsl/cuda/cudart_stub.cc:31] Could not find cuda drivers on your machine, GPU will not be used.\n",
      "2023-12-11 16:47:37.757666: E external/local_xla/xla/stream_executor/cuda/cuda_dnn.cc:9261] Unable to register cuDNN factory: Attempting to register factory for plugin cuDNN when one has already been registered\n",
      "2023-12-11 16:47:37.757709: E external/local_xla/xla/stream_executor/cuda/cuda_fft.cc:607] Unable to register cuFFT factory: Attempting to register factory for plugin cuFFT when one has already been registered\n",
      "2023-12-11 16:47:37.825822: E external/local_xla/xla/stream_executor/cuda/cuda_blas.cc:1515] Unable to register cuBLAS factory: Attempting to register factory for plugin cuBLAS when one has already been registered\n",
      "2023-12-11 16:47:37.966458: I external/local_tsl/tsl/cuda/cudart_stub.cc:31] Could not find cuda drivers on your machine, GPU will not be used.\n",
      "2023-12-11 16:47:37.968490: I tensorflow/core/platform/cpu_feature_guard.cc:182] This TensorFlow binary is optimized to use available CPU instructions in performance-critical operations.\n",
      "To enable the following instructions: AVX2 FMA, in other operations, rebuild TensorFlow with the appropriate compiler flags.\n",
      "2023-12-11 16:47:39.119298: W tensorflow/compiler/tf2tensorrt/utils/py_utils.cc:38] TF-TRT Warning: Could not find TensorRT\n",
      "2023-12-11 16:47:41.689876: I external/local_xla/xla/stream_executor/cuda/cuda_executor.cc:887] could not open file to read NUMA node: /sys/bus/pci/devices/0000:01:00.0/numa_node\n",
      "Your kernel may have been built without NUMA support.\n",
      "2023-12-11 16:47:41.690273: W tensorflow/core/common_runtime/gpu/gpu_device.cc:2256] Cannot dlopen some GPU libraries. Please make sure the missing libraries mentioned above are installed properly if you would like to use GPU. Follow the guide at https://www.tensorflow.org/install/gpu for how to download and setup the required libraries for your platform.\n",
      "Skipping registering GPU devices...\n",
      "All PyTorch model weights were used when initializing TFBertForSequenceClassification.\n",
      "\n",
      "Some weights or buffers of the TF 2.0 model TFBertForSequenceClassification were not initialized from the PyTorch model and are newly initialized: ['classifier.weight', 'classifier.bias']\n",
      "You should probably TRAIN this model on a down-stream task to be able to use it for predictions and inference.\n"
     ]
    },
    {
     "name": "stdout",
     "output_type": "stream",
     "text": [
      "Epoch 1/3\n",
      "2/2 [==============================] - 24s 2s/step - loss: 1.6360 - sparse_categorical_accuracy: 0.0800\n",
      "Epoch 2/3\n",
      "2/2 [==============================] - 5s 2s/step - loss: 1.5259 - sparse_categorical_accuracy: 0.2000\n",
      "Epoch 3/3\n",
      "2/2 [==============================] - 5s 2s/step - loss: 1.4762 - sparse_categorical_accuracy: 0.3000\n",
      "1/1 [==============================] - 3s 3s/step\n",
      "Predicted labels for testing data:  [2, 2, 4, 2, 2, 2, 2, 2, 2, 2, 2, 2, 2, 2, 2, 2, 2, 2, 2, 3]\n"
     ]
    }
   ],
   "source": [
    "import numpy as np\n",
    "import pandas as pd\n",
    "from transformers import BertTokenizer, TFBertForSequenceClassification\n",
    "from tensorflow.keras.optimizers import Adam\n",
    "from tensorflow.keras.losses import SparseCategoricalCrossentropy\n",
    "from tensorflow.keras.metrics import SparseCategoricalAccuracy\n",
    "from tensorflow.keras.layers import Dense\n",
    "from sklearn.model_selection import train_test_split\n",
    "import tensorflow as tf\n",
    "\n",
    "# Load the training dataset\n",
    "train_data = pd.read_csv('train.tsv', delimiter='\\t')  \n",
    "\n",
    "# Load the testing dataset\n",
    "test_data = pd.read_csv('test.tsv', delimiter='\\t')  \n",
    "\n",
    "# random sample of 20 rows for train/test data\n",
    "random_sample_train_data = train_data.sample(n=50, random_state=42)\n",
    "random_sample_test_data = test_data.sample(n=20, random_state=42)\n",
    "\n",
    "# Initialize a BERT tokenizer from the pre-trained model 'bert-base-uncased' and set the maximum length of the tokenized sequence\n",
    "tokenizer = BertTokenizer.from_pretrained('bert-base-uncased')\n",
    "max_length = 128\n",
    "\n",
    "# Preprocessing training data\n",
    "# Tokenize the 'Phrase' column of the training data using the BERT tokenizer\n",
    "X_train_tokenized = tokenizer(\n",
    "    random_sample_train_data['Phrase'].tolist(),\n",
    "    truncation=True,\n",
    "    padding=True,\n",
    "    max_length=max_length,\n",
    "    return_tensors='tf'\n",
    ")\n",
    "\n",
    "# Convert the tokenized training data into a hashable format (dictionary of TensorFlow tensors), so we can use .fit() later on\n",
    "X_train_hashable = {\n",
    "    'input_ids': X_train_tokenized['input_ids'],\n",
    "    'token_type_ids': X_train_tokenized['token_type_ids'],\n",
    "    'attention_mask': X_train_tokenized['attention_mask'],\n",
    "}\n",
    "\n",
    "y_train = random_sample_train_data['Sentiment'].values\n",
    "\n",
    "\n",
    "# Preprocess testing data\n",
    "# Tokenize the 'Phrase' column of the testing data using the same BERT tokenizer\n",
    "X_test_tokenized = tokenizer(\n",
    "    random_sample_test_data['Phrase'].tolist(),\n",
    "    truncation=True,\n",
    "    padding=True,\n",
    "    max_length=max_length,\n",
    "    return_tensors='tf'\n",
    ")\n",
    "\n",
    "# Convert the tokenized testing data into a hashable format (dictionary of TensorFlow tensors)\n",
    "X_test_hashable = {\n",
    "    'input_ids': X_test_tokenized['input_ids'],\n",
    "    'token_type_ids': X_test_tokenized['token_type_ids'],\n",
    "    'attention_mask': X_test_tokenized['attention_mask'],\n",
    "}\n",
    "\n",
    "\n",
    "# Load the pre-trained BERT model for sequence classification, set num_labels to 5\n",
    "bert_model = TFBertForSequenceClassification.from_pretrained('bert-base-uncased', num_labels=5)\n",
    "\n",
    "# Compile the model\n",
    "bert_model.compile(optimizer=Adam(learning_rate=2e-5), \n",
    "                   loss=SparseCategoricalCrossentropy(from_logits=True),\n",
    "                   metrics=[SparseCategoricalAccuracy()])\n",
    "\n",
    "# Train the model\n",
    "bert_model.fit(X_train_hashable, y_train, epochs=3, batch_size=32)\n",
    "\n",
    "\n",
    "# Predict the sentiment labels of the testing data\n",
    "predictions = bert_model.predict(X_test_hashable) \n",
    "logits = predictions.logits\n",
    "probabilities = tf.nn.softmax(logits) \n",
    "predicted_class = tf.argmax(probabilities, axis=-1)\n",
    "\n",
    "print(\"Predicted labels for testing data: \", np.array(predicted_class).tolist())\n",
    "\n"
   ]
  },
  {
   "cell_type": "markdown",
   "id": "e3f2dcb4-849d-4745-98c2-25c8d61e5fa8",
   "metadata": {},
   "source": [
    "The results automatically look more accurate as it is not just 2's this time but a mix of numbers. However, without turning in my results, we wont really know how accurate this model is. That is why I used the model to predict the training dataset and then compare the predictions to the actual sentiment is has. "
   ]
  },
  {
   "cell_type": "code",
   "execution_count": 3,
   "id": "810aab43",
   "metadata": {},
   "outputs": [
    {
     "name": "stdout",
     "output_type": "stream",
     "text": [
      "2/2 [==============================] - 3s 320ms/step\n",
      "Predicted labels for testing data:  [2, 2, 4, 2, 2, 2, 2, 3, 4, 4, 0, 2, 0, 3, 2, 2, 2, 2, 2, 2, 2, 2, 2, 2, 2, 2, 2, 2, 2, 2, 2, 0, 2, 2, 2, 2, 2, 0, 2, 2, 2, 2, 2, 2, 4, 3, 0, 2, 2, 2]\n",
      "Actual class labels:  [2 4 2 2 1 1 1 3 4 1 0 2 0 3 1 4 2 1 2 2 2 2 2 2 2 2 2 2 1 1 2 0 2 2 3 2 2\n",
      " 3 2 4 4 2 2 1 3 3 3 2 2 1]\n",
      "Accuracy: 62.00%\n"
     ]
    }
   ],
   "source": [
    "from sklearn.metrics import accuracy_score\n",
    "\n",
    "random_sample_to_test = train_data.sample(n=50, random_state=42)\n",
    "\n",
    "# Tokenize the 'Phrase' column of the testing data using the same BERT tokenizer\n",
    "X_test_tokenized = tokenizer(\n",
    "    random_sample_to_test['Phrase'].tolist(),\n",
    "    truncation=True,\n",
    "    padding=True,\n",
    "    max_length=max_length,\n",
    "    return_tensors='tf'\n",
    ")\n",
    "\n",
    "X_test_hashable = {\n",
    "    'input_ids': X_test_tokenized['input_ids'],\n",
    "    'token_type_ids': X_test_tokenized['token_type_ids'],\n",
    "    'attention_mask': X_test_tokenized['attention_mask'],\n",
    "}\n",
    "\n",
    "y_true_labels = random_sample_to_test['Sentiment'].values\n",
    "\n",
    "predictions = bert_model.predict(X_test_hashable) \n",
    "logits = predictions.logits\n",
    "probabilities = tf.nn.softmax(logits) \n",
    "predicted_class = tf.argmax(probabilities, axis=-1)\n",
    "accuracy = accuracy_score(y_true_labels, predicted_class)\n",
    "\n",
    "print(\"Predicted labels for testing data: \", np.array(predicted_class).tolist())\n",
    "print(\"Actual class labels: \", y_true_labels)\n",
    "print(f'Accuracy: {accuracy * 100:.2f}%')"
   ]
  },
  {
   "cell_type": "markdown",
   "id": "a834ccb4-34a3-497e-b889-8cc7d3b1bb01",
   "metadata": {},
   "source": [
    "Using the scikitlearn accuracy_score function, I was able to compare the predicted sentiments and the actual sentiments and then get a percentage of how accurate the model was. In this case, it was 62% accurate. In the cell below I wanted to see how the labels compared when next to each other and although most are correct there are some that are off. "
   ]
  },
  {
   "cell_type": "code",
   "execution_count": 4,
   "id": "f08fa8ce",
   "metadata": {},
   "outputs": [
    {
     "name": "stdout",
     "output_type": "stream",
     "text": [
      "True Label: 2, Predicted Label: 2\n",
      "True Label: 4, Predicted Label: 2\n",
      "True Label: 2, Predicted Label: 4\n",
      "True Label: 2, Predicted Label: 2\n",
      "True Label: 1, Predicted Label: 2\n",
      "True Label: 1, Predicted Label: 2\n",
      "True Label: 1, Predicted Label: 2\n",
      "True Label: 3, Predicted Label: 3\n",
      "True Label: 4, Predicted Label: 4\n",
      "True Label: 1, Predicted Label: 4\n",
      "True Label: 0, Predicted Label: 0\n",
      "True Label: 2, Predicted Label: 2\n",
      "True Label: 0, Predicted Label: 0\n",
      "True Label: 3, Predicted Label: 3\n",
      "True Label: 1, Predicted Label: 2\n",
      "True Label: 4, Predicted Label: 2\n",
      "True Label: 2, Predicted Label: 2\n",
      "True Label: 1, Predicted Label: 2\n",
      "True Label: 2, Predicted Label: 2\n",
      "True Label: 2, Predicted Label: 2\n",
      "True Label: 2, Predicted Label: 2\n",
      "True Label: 2, Predicted Label: 2\n",
      "True Label: 2, Predicted Label: 2\n",
      "True Label: 2, Predicted Label: 2\n",
      "True Label: 2, Predicted Label: 2\n",
      "True Label: 2, Predicted Label: 2\n",
      "True Label: 2, Predicted Label: 2\n",
      "True Label: 2, Predicted Label: 2\n",
      "True Label: 1, Predicted Label: 2\n",
      "True Label: 1, Predicted Label: 2\n",
      "True Label: 2, Predicted Label: 2\n",
      "True Label: 0, Predicted Label: 0\n",
      "True Label: 2, Predicted Label: 2\n",
      "True Label: 2, Predicted Label: 2\n",
      "True Label: 3, Predicted Label: 2\n",
      "True Label: 2, Predicted Label: 2\n",
      "True Label: 2, Predicted Label: 2\n",
      "True Label: 3, Predicted Label: 0\n",
      "True Label: 2, Predicted Label: 2\n",
      "True Label: 4, Predicted Label: 2\n",
      "True Label: 4, Predicted Label: 2\n",
      "True Label: 2, Predicted Label: 2\n",
      "True Label: 2, Predicted Label: 2\n",
      "True Label: 1, Predicted Label: 2\n",
      "True Label: 3, Predicted Label: 4\n",
      "True Label: 3, Predicted Label: 3\n",
      "True Label: 3, Predicted Label: 0\n",
      "True Label: 2, Predicted Label: 2\n",
      "True Label: 2, Predicted Label: 2\n",
      "True Label: 1, Predicted Label: 2\n"
     ]
    }
   ],
   "source": [
    "for true_label, predicted_label in zip(y_true_labels, predicted_class):\n",
    "    print(f'True Label: {true_label}, Predicted Label: {predicted_label}')"
   ]
  },
  {
   "cell_type": "markdown",
   "id": "ee203926-75bd-4b03-b39c-f4ae288c843c",
   "metadata": {},
   "source": [
    "In order to better visualize the accuracy of the model I will use a confusion matrix."
   ]
  },
  {
   "cell_type": "code",
   "execution_count": 17,
   "id": "9f7f905a-878e-4581-8afa-55b5979c5af4",
   "metadata": {},
   "outputs": [
    {
     "data": {
      "image/png": "[encoded data removed]",
      "text/plain": [
       "<Figure size 800x600 with 1 Axes>"
      ]
     },
     "metadata": {},
     "output_type": "display_data"
    }
   ],
   "source": [
    "import matplotlib.pyplot as plt\n",
    "from sklearn.metrics import confusion_matrix\n",
    "from sklearn.metrics import accuracy_score\n",
    "import numpy as np\n",
    "\n",
    "# use confusion matrix\n",
    "conf_matrix = confusion_matrix(y_true_labels, predicted_class)\n",
    "\n",
    "# Calc accuracy\n",
    "accuracy = accuracy_score(y_true_labels, predicted_class)\n",
    "\n",
    "# Plot\n",
    "fig, ax = plt.subplots(figsize=(8, 6))\n",
    "\n",
    "ax.bar(np.arange(len(conf_matrix)), conf_matrix.sum(axis=1), color='blue', alpha=0.7, label='True Sentiments')\n",
    "\n",
    "ax.bar(np.arange(len(conf_matrix)), conf_matrix.sum(axis=0), color='orange', alpha=0.7, label='Predicted Sentiments')\n",
    "\n",
    "ax.set_xticks(np.arange(len(conf_matrix)))\n",
    "ax.set_xticklabels([0, 1, 2, 3, 4])\n",
    "ax.set_xlabel('Sentiment Labels')\n",
    "ax.set_ylabel('Count')\n",
    "ax.set_title(f'True vs Predicted Sentiments\\nAccuracy: {accuracy * 100:.2f}%')\n",
    "ax.legend()\n",
    "\n",
    "plt.show()\n"
   ]
  },
  {
   "cell_type": "markdown",
   "id": "8dfb5157-6376-4343-92ec-93488ec21830",
   "metadata": {},
   "source": [
    "Confusion matrices are used to evaluate performance of classification models, so that was what I used to evaluate the model. In the histogram, you can see that the accuracy of the model was 62% and it mostly predicted phrases to be neutral. It overpredicted 0 and 2 and underpredicted 1,3,and 4 with 1 receiving no predictions. The low accuracy was most likely caused by the dataset being shortened for the training. "
   ]
  },
  {
   "cell_type": "code",
   "execution_count": null,
   "id": "1382c432-3ca3-46fb-bab8-5cc1c784f394",
   "metadata": {},
   "outputs": [],
   "source": []
  }
 ],
 "metadata": {
  "kernelspec": {
   "display_name": "Python 3 (ipykernel)",
   "language": "python",
   "name": "python3"
  },
  "language_info": {
   "codemirror_mode": {
    "name": "ipython",
    "version": 3
   },
   "file_extension": ".py",
   "mimetype": "text/x-python",
   "name": "python",
   "nbconvert_exporter": "python",
   "pygments_lexer": "ipython3",
   "version": "3.10.12"
  }
 },
 "nbformat": 4,
 "nbformat_minor": 5
}
